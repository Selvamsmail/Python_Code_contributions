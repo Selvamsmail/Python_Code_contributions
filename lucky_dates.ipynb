{
  "nbformat": 4,
  "nbformat_minor": 0,
  "metadata": {
    "colab": {
      "provenance": []
    },
    "kernelspec": {
      "name": "python3",
      "display_name": "Python 3"
    },
    "language_info": {
      "name": "python"
    }
  },
  "cells": [
    {
      "cell_type": "code",
      "execution_count": 1,
      "metadata": {
        "colab": {
          "base_uri": "https://localhost:8080/"
        },
        "id": "8WSoLjMkd1XA",
        "outputId": "b8254a49-f60f-49d1-fdc5-dd7ef61a30cc"
      },
      "outputs": [
        {
          "output_type": "stream",
          "name": "stdout",
          "text": [
            "[19, 1, 3]\n",
            "[21, 3, 5]\n",
            "[22, 4, 6]\n",
            "[23, 5, 7]\n",
            "[28, 1, 3]\n",
            "[30, 3, 5]\n"
          ]
        }
      ],
      "source": [
        "from datetime import date\n",
        "import calendar\n",
        "\n",
        "def singler(n):\n",
        "  n = [int(i) for i in str(n)]\n",
        "  le = len(n)\n",
        "  while le > 1:\n",
        "    n = sum(n)\n",
        "    n = [int(i) for i in str(n)]\n",
        "    le = len(n)\n",
        "  return (n)\n",
        "\n",
        "dt = date.today()\n",
        "a = calendar.monthrange(dt.year, dt.month)\n",
        "dt = str(dt)\n",
        "\n",
        "day = int(dt[8:])\n",
        "month = int(dt[5:7])\n",
        "year = int(dt[:4])\n",
        "\n",
        "ans = []\n",
        "\n",
        "for i in range(day,a[1]+1):\n",
        "  b = i + month + year\n",
        "  dayv = singler(i)[0]\n",
        "  tv = singler(b)[0]\n",
        "  c = [1,5,6]\n",
        "  if (dayv in c) or (tv in c):\n",
        "    cl = [i,dayv,tv]\n",
        "    ans.append(cl)\n",
        "cans = []\n",
        "for i in ans:\n",
        "  if (i[2] != 8) and (i[1] != 8):\n",
        "    cans.append(i)\n",
        "\n",
        "for i in cans:\n",
        "  print(i)"
      ]
    }
  ]
}