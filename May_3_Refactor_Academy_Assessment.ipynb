{
  "nbformat": 4,
  "nbformat_minor": 0,
  "metadata": {
    "colab": {
      "provenance": []
    },
    "kernelspec": {
      "name": "python3",
      "display_name": "Python 3"
    },
    "language_info": {
      "name": "python"
    }
  },
  "cells": [
    {
      "cell_type": "markdown",
      "source": [
        "1. Given a string S of length N, rearrange the letters in the string to form a new string X which is lexicographically greater than current string(If many answers are possible, output lexicographically smallest one). If no string exists print '-1'.\n",
        "Input Size : 1 <= N <= 100000\n",
        "Sample Testcase :\n",
        "* INPUT\n",
        "* hello\n",
        "* OUTPUT\n",
        "* helol"
      ],
      "metadata": {
        "id": "kKGTd07mi66T"
      }
    },
    {
      "cell_type": "code",
      "execution_count": 1,
      "metadata": {
        "id": "YvADD7JZdt2y",
        "colab": {
          "base_uri": "https://localhost:8080/"
        },
        "outputId": "ca7db4a5-0f20-443d-805e-44a6744e5848"
      },
      "outputs": [
        {
          "output_type": "stream",
          "name": "stdout",
          "text": [
            "maicg\n",
            "\n",
            "-1\n"
          ]
        }
      ],
      "source": [
        "# we are just finding next greater string.\n",
        "\n",
        "def rearrange_string(s):\n",
        "    n = len(s)\n",
        "    s = list(s)\n",
        "\n",
        "    i = n - 2 \n",
        "    while i >= 0 and s[i] >= s[i+1]: # checking if any string to the right is smaller to the current string.\n",
        "        i = i - 1\n",
        "\n",
        "    if i == -1:\n",
        "        print('-1') # till end if found nothing smaller -1.\n",
        "        return\n",
        "    j = n - 1\n",
        "\n",
        "    while j > i and s[j] <= s[i]: # finding a place for s[i] to set in surfing with s[j]\n",
        "        j = j - 1\n",
        "\n",
        "    s[i], s[j] = s[j], s[i] # as we found a place we swap.\n",
        "    s[i+1:] = sorted(s[i+1:]) # now sorting the sub string will give us the largest string next to the string so we print.\n",
        "    print(''.join(s))\n",
        "\n",
        "a1 = rearrange_string('magic')\n",
        "print()\n",
        "a2 = rearrange_string('bbbbb')"
      ]
    },
    {
      "cell_type": "markdown",
      "source": [
        "2. Given a string S of length N, find if it forms a double string after deleting 1 character.\n",
        "Examples of double strings(meme,rara,fashionfashion).\n",
        "Input Size : 1 <= N <= 100000\n",
        "* Sample Testcases :\n",
        "INPUT\n",
        "abxxab\n",
        "OUTPUT\n",
        "NO"
      ],
      "metadata": {
        "id": "PvmLQSmSokh5"
      }
    },
    {
      "cell_type": "code",
      "source": [
        "def double_string_checker(s):\n",
        "  f = 0 # flag\n",
        "  for i in range(len(s)-1):\n",
        "    a = s[:i]+s[i+1:] # deleting one charecter\n",
        "    \n",
        "    if a[:(len(s)//2)] == a[(len(s)//2):]: # if this string is a double string the flag is set to 1\n",
        "      f = 1\n",
        "      break\n",
        "  print(('YES',s) if f==1 else ('NO',s))\n",
        "\n",
        "a1 = double_string_checker('ba1ba')\n",
        "print()\n",
        "a2 = double_string_checker('baba')"
      ],
      "metadata": {
        "colab": {
          "base_uri": "https://localhost:8080/"
        },
        "id": "oI7NaKw1osE_",
        "outputId": "356049fd-8504-49e2-818d-05abf4003a25"
      },
      "execution_count": 2,
      "outputs": [
        {
          "output_type": "stream",
          "name": "stdout",
          "text": [
            "('YES', 'ba1ba')\n",
            "\n",
            "('NO', 'baba')\n"
          ]
        }
      ]
    },
    {
      "cell_type": "markdown",
      "source": [
        "3. Given an arraylist A of string type which has name#mark1#mark2#mark3 format. Retrieve the name of the student who has scored max marks(total of three).\n",
        "for eg: input: {'arun#12#12#12','deepak#13#12#12'}\n",
        "output: Deepak\n",
        "Input Size : A <= 100000\n",
        "* Sample Testcase :\n",
        "INPUT\n",
        "arun#12#12#12\n",
        "deepak#13#12#12\n",
        "OUTPUT\n",
        "deepak"
      ],
      "metadata": {
        "id": "8QZacpfhpgho"
      }
    },
    {
      "cell_type": "code",
      "source": [
        "def max_score_finder(l1):\n",
        "  l2 = l1.split('\\n') #splitting by the lines.\n",
        "\n",
        "  l = list(''.join(l2[i]).split('#') for i in range(2)) #removing hashes.\n",
        "\n",
        "  for i in range(len(l)):\n",
        "    a = [int(j) for j in l[i][1:]] # takeing just the scores.\n",
        "    l[i].append(sum(a)) # summing and appending to the relevant names.\n",
        "\n",
        "  print((l[0][0],'scored max') if l[0][-1] > l[1][-1] else l[1][0],'scored max') # printing the larger score name.\n",
        "\n",
        "a1 = max_score_finder(\"\"\"arun#12#12#12\n",
        "deepak#13#12#12\"\"\")\n",
        "print()# to create a line.\n",
        "a2 = max_score_finder(\"\"\"sama#32#14#12\n",
        "madison#133#12#15\"\"\")"
      ],
      "metadata": {
        "colab": {
          "base_uri": "https://localhost:8080/"
        },
        "id": "OglzsSForUY2",
        "outputId": "d47a9d92-eac7-484b-a58c-3ee064c026e1"
      },
      "execution_count": 3,
      "outputs": [
        {
          "output_type": "stream",
          "name": "stdout",
          "text": [
            "deepak scored max\n",
            "\n",
            "madison scored max\n"
          ]
        }
      ]
    },
    {
      "cell_type": "markdown",
      "source": [
        "4. Given a string S of length N, find whether the given string is a palindrome using stack or linked list and print 'yes' otherwise print 'no'.\n",
        "Input Size : 1 <= N <= 100000\n",
        "* Sample Testcases :\n",
        "INPUT\n",
        "GuviGeek\n",
        "OUTPUT\n",
        "no"
      ],
      "metadata": {
        "id": "CpFltNONPDCT"
      }
    },
    {
      "cell_type": "code",
      "source": [
        "def check_if_palindrome(s):\n",
        "  stack = []\n",
        "  for c in s:\n",
        "    stack.append(c) # duplication...\n",
        "\n",
        "  for c in s: \n",
        "    b = stack.pop() # assigning the poped element from stack to variable b\n",
        "    if c != b:\n",
        "      print(s,\"is not a palindrome\") # checking the reversed string to find palindrome.\n",
        "      break\n",
        "  else:\n",
        "    print(s,\"is a palindrome\")\n",
        "\n",
        "a1 = check_if_palindrome('madam')\n",
        "print()\n",
        "a2 = check_if_palindrome('mustafa')"
      ],
      "metadata": {
        "colab": {
          "base_uri": "https://localhost:8080/"
        },
        "id": "hYM6e8P5QEFK",
        "outputId": "b4e45349-be73-4b4a-e5d7-8743e88c8f7f"
      },
      "execution_count": 4,
      "outputs": [
        {
          "output_type": "stream",
          "name": "stdout",
          "text": [
            "madam is a palindrome\n",
            "\n",
            "mustafa is not a palindrome\n"
          ]
        }
      ]
    }
  ]
}