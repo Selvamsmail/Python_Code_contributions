{
  "nbformat": 4,
  "nbformat_minor": 0,
  "metadata": {
    "colab": {
      "provenance": []
    },
    "kernelspec": {
      "name": "python3",
      "display_name": "Python 3"
    },
    "language_info": {
      "name": "python"
    }
  },
  "cells": [
    {
      "cell_type": "markdown",
      "source": [
        "1. Given a string S of length N, rearrange the letters in the string to form a new string X which is lexicographically greater than current string(If many answers are possible, output lexicographically smallest one). If no string exists print '-1'.\n",
        "Input Size : 1 <= N <= 100000\n",
        "Sample Testcase :\n",
        "* INPUT\n",
        "* hello\n",
        "* OUTPUT\n",
        "* helol"
      ],
      "metadata": {
        "id": "kKGTd07mi66T"
      }
    },
    {
      "cell_type": "code",
      "execution_count": null,
      "metadata": {
        "id": "YvADD7JZdt2y",
        "colab": {
          "base_uri": "https://localhost:8080/"
        },
        "outputId": "ca7db4a5-0f20-443d-805e-44a6744e5848"
      },
      "outputs": [
        {
          "output_type": "stream",
          "name": "stdout",
          "text": [
            "maicg\n",
            "\n",
            "-1\n"
          ]
        }
      ],
      "source": [
        "# we are just finding next greater string.\n",
        "\n",
        "def rearrange_string(s):\n",
        "    n = len(s)\n",
        "    s = list(s)\n",
        "\n",
        "    i = n - 2 \n",
        "    while i >= 0 and s[i] >= s[i+1]: # checking if any string to the right is smaller to the current string.\n",
        "        i = i - 1\n",
        "\n",
        "    if i == -1:\n",
        "        print('-1') # till end if found nothing smaller -1.\n",
        "        return\n",
        "    j = n - 1\n",
        "\n",
        "    while j > i and s[j] <= s[i]: # finding a place for s[i] to set in surfing with s[j]\n",
        "        j = j - 1\n",
        "\n",
        "    s[i], s[j] = s[j], s[i] # as we found a place we swap.\n",
        "    s[i+1:] = sorted(s[i+1:]) # now sorting the sub string will give us the largest string next to the string so we print.\n",
        "    print(''.join(s))\n",
        "\n",
        "rearrange_string('magic')\n",
        "print()\n",
        "rearrange_string('bbbbb')"
      ]
    },
    {
      "cell_type": "markdown",
      "source": [
        "2. Given a string S of length N, find if it forms a double string after deleting 1 character.\n",
        "Examples of double strings(meme,rara,fashionfashion).\n",
        "Input Size : 1 <= N <= 100000\n",
        "* Sample Testcases :\n",
        "INPUT\n",
        "abxxab\n",
        "OUTPUT\n",
        "NO"
      ],
      "metadata": {
        "id": "PvmLQSmSokh5"
      }
    },
    {
      "cell_type": "code",
      "source": [
        "def double_string_checker(s):\n",
        "  f = 0 # flag\n",
        "  for i in range(len(s)-1):\n",
        "    a = s[:i]+s[i+1:] # deleting one charecter\n",
        "    \n",
        "    if a[:(len(s)//2)] == a[(len(s)//2):]: # if this string is a double string the flag is set to 1\n",
        "      f = 1\n",
        "      break\n",
        "  print(('YES',s) if f==1 else ('NO',s))\n",
        "\n",
        "double_string_checker('ba1ba')\n",
        "print()\n",
        "double_string_checker('baba')"
      ],
      "metadata": {
        "colab": {
          "base_uri": "https://localhost:8080/"
        },
        "id": "oI7NaKw1osE_",
        "outputId": "356049fd-8504-49e2-818d-05abf4003a25"
      },
      "execution_count": null,
      "outputs": [
        {
          "output_type": "stream",
          "name": "stdout",
          "text": [
            "('YES', 'ba1ba')\n",
            "\n",
            "('NO', 'baba')\n"
          ]
        }
      ]
    },
    {
      "cell_type": "markdown",
      "source": [
        "3. Given an arraylist A of string type which has name#mark1#mark2#mark3 format. Retrieve the name of the student who has scored max marks(total of three).\n",
        "for eg: input: {'arun#12#12#12','deepak#13#12#12'}\n",
        "output: Deepak\n",
        "Input Size : A <= 100000\n",
        "* Sample Testcase :\n",
        "INPUT\n",
        "arun#12#12#12\n",
        "deepak#13#12#12\n",
        "OUTPUT\n",
        "deepak"
      ],
      "metadata": {
        "id": "8QZacpfhpgho"
      }
    },
    {
      "cell_type": "code",
      "source": [
        "def max_score_finder(l1):\n",
        "  l2 = l1.split('\\n') #splitting by the lines.\n",
        "\n",
        "  l = list(''.join(l2[i]).split('#') for i in range(2)) #removing hashes.\n",
        "\n",
        "  for i in range(len(l)):\n",
        "    a = [int(j) for j in l[i][1:]] # takeing just the scores.\n",
        "    l[i].append(sum(a)) # summing and appending to the relevant names.\n",
        "\n",
        "  print((l[0][0],'scored max') if l[0][-1] > l[1][-1] else l[1][0],'scored max') # printing the larger score name.\n",
        "\n",
        "max_score_finder(\"\"\"arun#12#12#12\n",
        "deepak#13#12#12\"\"\")\n",
        "print()# to create a line.\n",
        "max_score_finder(\"\"\"sama#32#14#12\n",
        "madison#133#12#15\"\"\")"
      ],
      "metadata": {
        "colab": {
          "base_uri": "https://localhost:8080/"
        },
        "id": "OglzsSForUY2",
        "outputId": "d47a9d92-eac7-484b-a58c-3ee064c026e1"
      },
      "execution_count": null,
      "outputs": [
        {
          "output_type": "stream",
          "name": "stdout",
          "text": [
            "deepak scored max\n",
            "\n",
            "madison scored max\n"
          ]
        }
      ]
    },
    {
      "cell_type": "markdown",
      "source": [
        "4. Given a string S of length N, find whether the given string is a palindrome using stack or linked list and print 'yes' otherwise print 'no'.\n",
        "Input Size : 1 <= N <= 100000\n",
        "* Sample Testcases :\n",
        "INPUT\n",
        "GuviGeek\n",
        "OUTPUT\n",
        "no"
      ],
      "metadata": {
        "id": "CpFltNONPDCT"
      }
    },
    {
      "cell_type": "code",
      "source": [
        "def check_if_palindrome(s):\n",
        "  stack = []\n",
        "  for c in s:\n",
        "    stack.append(c) # duplication...\n",
        "\n",
        "  for c in s: \n",
        "    b = stack.pop() # assigning the poped element from stack to variable b\n",
        "    if c != b:\n",
        "      print(s,\"is not a palindrome\") # checking the reversed string to find palindrome.\n",
        "      break\n",
        "  else:\n",
        "    print(s,\"is a palindrome\")\n",
        "\n",
        "check_if_palindrome('madam')\n",
        "print()\n",
        "check_if_palindrome('mustafa')"
      ],
      "metadata": {
        "colab": {
          "base_uri": "https://localhost:8080/"
        },
        "id": "hYM6e8P5QEFK",
        "outputId": "b4e45349-be73-4b4a-e5d7-8743e88c8f7f"
      },
      "execution_count": null,
      "outputs": [
        {
          "output_type": "stream",
          "name": "stdout",
          "text": [
            "madam is a palindrome\n",
            "\n",
            "mustafa is not a palindrome\n"
          ]
        }
      ]
    },
    {
      "cell_type": "markdown",
      "source": [
        "5. Given a positive number N, print count of all jumping numbers smaller than or equal to N. A number is called as a Jumping Number if all adjacent digits in it differ by 1. The difference between ‘9’ and ‘0’ is not considered as 1. All single digit numbers are considered as Jumping Numbers. For example 7, 8987 and 4343456 are Jumping numbers but 796 and 89098 are not.\n",
        "Input Size : 1 <= N <= 100000\n",
        "* Sample Testcase :\n",
        "INPUT\n",
        "40\n",
        "OUTPUT\n",
        "16"
      ],
      "metadata": {
        "id": "FT1MgFqT2TF4"
      }
    },
    {
      "cell_type": "code",
      "source": [
        "def is_jumping_number(n):\n",
        "    n_str = str(n)\n",
        "    for i in range(1,len(n_str)):\n",
        "        if abs(int(n_str[i]) - int(n_str[i-1])) != 1: # jumping number has a space of one between numbers.\n",
        "            return False\n",
        "    return True\n",
        "\n",
        "def iterat(k):\n",
        "  ans = 0\n",
        "  for i in range(0,k+1):\n",
        "    if (is_jumping_number(i)):\n",
        "      ans += 1\n",
        "  print(ans)\n",
        "\n",
        "iterat(40)\n",
        "print()\n",
        "iterat(1000)\n"
      ],
      "metadata": {
        "colab": {
          "base_uri": "https://localhost:8080/"
        },
        "id": "ssoyV1UO2XUw",
        "outputId": "c82aff15-8322-4fcd-ce3f-08e09c8f9331"
      },
      "execution_count": 28,
      "outputs": [
        {
          "output_type": "stream",
          "name": "stdout",
          "text": [
            "16\n",
            "\n",
            "59\n"
          ]
        }
      ]
    },
    {
      "cell_type": "markdown",
      "source": [
        "6. You are given a long string without spaces.Your task is to place the vowels in ascending order. Then print the resulting string\n",
        "\n",
        "Input Description:\n",
        "You are given a string ‘s’\n",
        "\n",
        "Output Description:\n",
        "Print the obtained string\n",
        "\n",
        "Sample Input :\n",
        "ebcda\n",
        "Sample Output :\n",
        "abcde"
      ],
      "metadata": {
        "id": "fiGna8Z8-Jhn"
      }
    },
    {
      "cell_type": "code",
      "source": [
        "def vovel_sort(l):\n",
        "  l = list(l)       # string to list\n",
        "  d = {}\n",
        "  for i in range(len(l)): \n",
        "    if l[i].lower() in 'aeiou': \n",
        "      d.update({i:l[i]})  # if the value is found to be a vowel we update in the dictionary.\n",
        "  s = sorted(list(d.values())) # sorting just the values and placing them in respective keys(index).\n",
        "  k = list(d.keys())\n",
        "  \n",
        "  for i in range(len(k)):\n",
        "    l[k[i]] = s[i]\n",
        "  print(''.join(l))\n",
        "\n",
        "vovel_sort('ebcda')\n",
        "print()\n",
        "vovel_sort('gauivbacd')"
      ],
      "metadata": {
        "colab": {
          "base_uri": "https://localhost:8080/"
        },
        "id": "rc-LZGUl-eIu",
        "outputId": "152b969e-4bb6-4754-e74f-71dd48758e4b"
      },
      "execution_count": 31,
      "outputs": [
        {
          "output_type": "stream",
          "name": "stdout",
          "text": [
            "abcde\n",
            "\n",
            "gaaivbucd\n"
          ]
        }
      ]
    },
    {
      "cell_type": "markdown",
      "source": [
        "7. Given two strings S1 and S2,display 'yes' if given two strings are complementary otherwise display 'no'. If we join alphabets of both the strings we should get all 26 capital letters exactly once, then only we can call them as complementary.\n",
        "* Sample Testcase :\n",
        "INPUT\n",
        "ABDCFGIJKLMNOPQUVWXYZ\n",
        "EHRST\n",
        "OUTPUT\n",
        "yes"
      ],
      "metadata": {
        "id": "qZz89G0QBgxG"
      }
    },
    {
      "cell_type": "code",
      "source": [
        "def is_complementary(s):\n",
        "  s.strip # as there is two string with a space we are joining them removing the space.\n",
        "  s = s.upper()\n",
        "  l = [chr(i) for i in range(ord('A'),ord('Z')+1)]\n",
        "  f = 1\n",
        "  for i in l:\n",
        "    if s.count(i) > 1:\n",
        "        f = 0\n",
        "        break \n",
        "    if i not in s:\n",
        "        f = 0\n",
        "        break \n",
        "  print('yes it is complementary' if f==1 else 'no it is not complementary')\n",
        "\n",
        "is_complementary('''ABDCFGIJKLMNOPQUVWXYZ EHRST''')\n",
        "print()\n",
        "is_complementary('''ABDCFGIJKLMNOPQUVWXYZ ErrST''')"
      ],
      "metadata": {
        "colab": {
          "base_uri": "https://localhost:8080/"
        },
        "id": "YwY0H1ZyBupn",
        "outputId": "fe4403bb-ed6a-4eee-c5d7-8ec5ac918600"
      },
      "execution_count": 34,
      "outputs": [
        {
          "output_type": "stream",
          "name": "stdout",
          "text": [
            "yes it is complementary\n",
            "\n",
            "no it is not complementary\n"
          ]
        }
      ]
    },
    {
      "cell_type": "markdown",
      "source": [],
      "metadata": {
        "id": "K2G5txT7El21"
      }
    }
  ]
}